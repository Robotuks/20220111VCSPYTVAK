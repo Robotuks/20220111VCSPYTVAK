{
 "cells": [
  {
   "cell_type": "code",
   "execution_count": 1,
   "metadata": {},
   "outputs": [
    {
     "data": {
      "text/plain": [
       "True"
      ]
     },
     "execution_count": 1,
     "metadata": {},
     "output_type": "execute_result"
    }
   ],
   "source": [
    "True and not False and ( [] or bool(\" \")) or 'word'.isdigit()\n",
    "True and ( [] or bool(\" \")) or 'word'.isdigit()\n",
    "True and True or 'word'.isdigit()\n",
    "True or 'word'.isdigit()\n",
    "True or False\n",
    "True "
   ]
  },
  {
   "cell_type": "code",
   "execution_count": null,
   "metadata": {},
   "outputs": [],
   "source": [
    "# [] or bool(\" \") ->  False or True -> True"
   ]
  },
  {
   "cell_type": "code",
   "execution_count": 2,
   "metadata": {},
   "outputs": [
    {
     "data": {
      "text/plain": [
       "True"
      ]
     },
     "execution_count": 2,
     "metadata": {},
     "output_type": "execute_result"
    }
   ],
   "source": [
    "True and not False"
   ]
  },
  {
   "cell_type": "markdown",
   "metadata": {},
   "source": [
    "# Namu darbai 3\n"
   ]
  },
  {
   "cell_type": "code",
   "execution_count": 7,
   "metadata": {},
   "outputs": [
    {
     "name": "stdout",
     "output_type": "stream",
     "text": [
      "Letters: 6, numbers: 1, spaces: 2, symbols: 2.\n",
      "(['v', 'i', 'e', 'n', 'a', 's'], ['2'], ['?', '?'], [' ', ' '])\n",
      "You have inserted 6 letters, 1 numbers, 2 simbols and 2 spaces\n"
     ]
    }
   ],
   "source": [
    "# 1 uzduotis\n",
    "def analyze_txt(txt_imputed):\n",
    "    letters = numbers = spaces = symbols = 0\n",
    "    for i in txt_imputed:\n",
    "        if i.isalpha():\n",
    "            letters += 1\n",
    "        elif i.isdigit():\n",
    "            numbers += 1\n",
    "        elif i.isspace():\n",
    "            spaces += 1\n",
    "        else:\n",
    "            symbols += 1\n",
    "    return letters, numbers, spaces, symbols\n",
    "\n",
    "def simboliu_ieskotojas(\n",
    "    simboliai: str\n",
    ") -> tuple[ list[str], list[str], list[str], list[str] ]:\n",
    "    raides=[]\n",
    "    skaiciai=[]\n",
    "    zenklai=[]\n",
    "    tarpai=[]\n",
    "    for simbolis in simboliai:\n",
    "        if simbolis.isalpha():\n",
    "            raides.append(simbolis)\n",
    "        elif simbolis.isdigit():\n",
    "            skaiciai.append(simbolis)\n",
    "        elif simbolis.isspace():\n",
    "            tarpai.append(simbolis)\n",
    "        else:\n",
    "            zenklai.append(simbolis)\n",
    "    return raides, skaiciai, zenklai, tarpai\n",
    "\n",
    "\n",
    "text = 'vienas 2 ??'\n",
    "letters, numbers, spaces, symbols = analyze_txt(text)\n",
    "print (f\"Letters: {letters}, numbers: {numbers}, spaces: {spaces}, symbols: {symbols}.\")\n",
    "raides, skaiciai, zenklai, tarpai = simboliu_ieskotojas(text)\n",
    "my_tuple = simboliu_ieskotojas(text)\n",
    "print (my_tuple)\n",
    "print(f'You have inserted {len(raides)} letters, {len(skaiciai)} numbers, {len(zenklai)} simbols and {len(tarpai)} spaces')"
   ]
  },
  {
   "cell_type": "code",
   "execution_count": 8,
   "metadata": {},
   "outputs": [
    {
     "data": {
      "text/plain": [
       "[5, 10, 15, 20, 25, 30, 35, 40, 45, 50, 55, 60, 65, 70, 75, 80, 85, 90, 95]"
      ]
     },
     "execution_count": 8,
     "metadata": {},
     "output_type": "execute_result"
    }
   ],
   "source": [
    "# 2 uzduotis\n",
    "def list_maker(start, end, step):\n",
    "    list_made = list(range(start, end, step))\n",
    "    return list_made\n",
    "\n",
    "list_start = int(input(\"Enter start number: \"))\n",
    "list_end = int(input(\"Enter end number: \"))\n",
    "list_step = int(input(\"Enter step: \"))\n",
    "\n",
    "list_maker(list_start, list_end, list_step)"
   ]
  },
  {
   "cell_type": "code",
   "execution_count": 17,
   "metadata": {},
   "outputs": [
    {
     "name": "stdout",
     "output_type": "stream",
     "text": [
      "<class 'tuple'>\n",
      "(1, 5, 6, 10, 4)\n",
      "1 5 6 10 4\n",
      "(1, 5, 6, 10, 4) -> 9\n",
      "The difference between the smallest (2) and the biggest (9) numbers on the list was 7\n",
      "7\n"
     ]
    }
   ],
   "source": [
    "# 3 uzduotis\n",
    "list_1 = [7, 5, 4, 2, 9, 3]\n",
    "\n",
    "def function_1(list_inputed):\n",
    "    list_inputed.sort()\n",
    "    smallest_num = list_inputed[0]\n",
    "    biggest_num = list_inputed[-1]\n",
    "    difference = biggest_num - smallest_num\n",
    "    return (f\"The difference between the smallest ({smallest_num}) and the biggest ({biggest_num}) numbers on the list was {difference}\")\n",
    "\n",
    "def function_2(list_inputed):\n",
    "    smallest_num = min(list_inputed)\n",
    "    biggest_num = max(list_inputed)\n",
    "    return  biggest_num - smallest_num\n",
    "\n",
    "def my_function(*args):\n",
    "    print (type(args))\n",
    "    print (args)\n",
    "    print (*args)\n",
    "\n",
    "    # mylist=[*args]\n",
    "    mylist = list(args)\n",
    "    mylist.sort()\n",
    "    skirtumas= mylist[-1]-mylist[0]\n",
    "    return (f'{args} -> {skirtumas}')\n",
    "\n",
    "print (my_function(1, 5, 6, 10, 4) )\n",
    "\n",
    "print (function_1(list_1) )\n",
    "print (function_2(list_1) )\n"
   ]
  },
  {
   "cell_type": "code",
   "execution_count": 22,
   "metadata": {},
   "outputs": [
    {
     "name": "stdout",
     "output_type": "stream",
     "text": [
      "Tarp skaičių 7 ir 8 anomalijos nėra.\n",
      "Tarp skaičių 8 ir 9 anomalijos nėra.\n",
      "Tarp skaičių 9 ir 10 anomalijos nėra.\n",
      "Tarp skaičių 10 ir 11 anomalijos nėra.\n",
      "Tarp skaičių 11 ir 12 anomalijos nėra.\n",
      "Anomalija yra! Skaičiai 12 ir 17 nėra einantys vienas po kito! Trūksta [13, 14, 15, 16].\n",
      "Tarp skaičių 17 ir 18 anomalijos nėra.\n",
      "Tarp skaičių 18 ir 19 anomalijos nėra.\n",
      "Tarp skaiciu 7 ir 8 anomalijos nera\n",
      "Tarp skaiciu 8 ir 9 anomalijos nera\n",
      "Tarp skaiciu 9 ir 10 anomalijos nera\n",
      "Tarp skaiciu 10 ir 11 anomalijos nera\n",
      "Tarp skaiciu 11 ir 12 anomalijos nera\n",
      "Anomalija yra! Skaiciai 12 ir 17 nera einantys vienas po kito! Trukstamas skaicius yra 13\n",
      "Tarp skaiciu 17 ir 18 anomalijos nera\n",
      "Tarp skaiciu 18 ir 19 anomalijos nera\n"
     ]
    }
   ],
   "source": [
    "# 4 uzduotis\n",
    "list_2 = [7, 8, 9, 10, 11, 12, 17, 18, 19]\n",
    "\n",
    "# Linas\n",
    "def anomaly_checker_l(list_given):\n",
    "\n",
    "    tmp_set = set(list_given)\n",
    "    list_given = list(tmp_set)\n",
    "    \n",
    "    list_given.sort()\n",
    "    for number in list_given:\n",
    "        while len(list_given) > 1:\n",
    "            if number + 1 == list_given[1]:\n",
    "                print(f\"Tarp skaičių {number} ir {list_given[1]} anomalijos nėra.\")\n",
    "            else:\n",
    "                numbers_missing = list(range(number + 1, list_given[1],))\n",
    "                print(f\"Anomalija yra! Skaičiai {number} ir {list_given[1]} nėra einantys vienas po kito! Trūksta {numbers_missing}.\")\n",
    "            list_given.pop(0)\n",
    "            number = list_given[0]\n",
    "\n",
    "anomaly_checker_l(list_2)\n",
    "\n",
    "list_2 = [7, 8, 9, 10, 11, 12, 17, 18, 19]\n",
    "# Agnes \n",
    "def anomaly_checker_a(args):\n",
    "    for n in args:\n",
    "        a = n+1\n",
    "        if n!=args[-1] and a == args[(args.index(n)+1)]:\n",
    "            print(f'Tarp skaiciu {n} ir {n+1} anomalijos nera')\n",
    "        elif n==args[-1]:\n",
    "            break\n",
    "        else:\n",
    "            print (f'Anomalija yra! Skaiciai {n} ir {args[(args.index(n)+1)]} nera einantys vienas po kito! Trukstamas skaicius yra {n+1}')\n",
    "\n",
    "def anomaly_checker_a_2(args):\n",
    "    for idx, n in enumerate(args):\n",
    "        # print (idx, n)\n",
    "        a = n+1\n",
    "        if n!=args[-1] and a == args[(idx+1)]:\n",
    "            print(f'Tarp skaiciu {n} ir {n+1} anomalijos nera')\n",
    "        elif n==args[-1]:\n",
    "            break\n",
    "        else:\n",
    "            print (f'Anomalija yra! Skaiciai {n} ir {args[( idx +1)]} nera einantys vienas po kito! Trukstamas skaicius yra {n+1}')\n",
    "\n",
    "list_2 = [7, 8, 9, 10, 11, 12, 17, 18, 19]\n",
    "def anomaly_checker_a_3(args):\n",
    "    for idx in range(len(args) - 1):\n",
    "        # print (idx, n)\n",
    "        n = args[idx]\n",
    "        a =  n+1\n",
    "        if a == args[(idx+1)]:\n",
    "            print(f'Tarp skaiciu {n} ir {n+1} anomalijos nera')\n",
    "        else:\n",
    "            print (f'Anomalija yra! Skaiciai {n} ir {args[( idx +1)]} nera einantys vienas po kito! Trukstamas skaicius yra {n+1}')\n",
    "\n",
    "anomaly_checker_a_3(list_2)"
   ]
  },
  {
   "cell_type": "code",
   "execution_count": 34,
   "metadata": {},
   "outputs": [
    {
     "name": "stdout",
     "output_type": "stream",
     "text": [
      "Tarp skaiciu 7 ir 8 anomalijos nera\n",
      "Tarp skaiciu 8 ir 9 anomalijos nera\n",
      "Tarp skaiciu 9 ir 10 anomalijos nera\n",
      "Tarp skaiciu 10 ir 11 anomalijos nera\n",
      "Tarp skaiciu 11 ir 12 anomalijos nera\n",
      "Anomalija yra! Skaičiai 12 ir 17 nėra einantys vienas po kito! Trūksta [13, 14, 15, 16].\n",
      "Tarp skaiciu 17 ir 18 anomalijos nera\n",
      "Tarp skaiciu 18 ir 19 anomalijos nera\n"
     ]
    }
   ],
   "source": [
    "list_2 = [7, 8, 9, 10, 11, 12, 17, 18, 19]\n",
    "def anomaly_checker_a_4(list_given):\n",
    "\n",
    "    list_1 = list_given[:-1]\n",
    "    list_2 = list_given[1:]\n",
    "    for number_l, number_r in zip(list_1, list_2):\n",
    "        if number_l + 1 == number_r:\n",
    "            print(f'Tarp skaiciu {number_l} ir {number_r} anomalijos nera')\n",
    "        else:\n",
    "            numbers_missing = list(range(number_l + 1, number_r ) )\n",
    "            print(f\"Anomalija yra! Skaičiai {number_l} ir {number_r} nėra einantys vienas po kito! Trūksta {numbers_missing}.\")\n",
    "\n",
    "\n",
    "anomaly_checker_a_4(list_2)"
   ]
  },
  {
   "cell_type": "code",
   "execution_count": 33,
   "metadata": {},
   "outputs": [
    {
     "name": "stdout",
     "output_type": "stream",
     "text": [
      "[(1, 'A'), (5, 'B'), (10, 'C')]\n"
     ]
    }
   ],
   "source": [
    "print (list(zip( [1,5,10], [\"A\", \"B\", \"C\"] ) ) )"
   ]
  },
  {
   "cell_type": "markdown",
   "metadata": {},
   "source": [
    "# Class"
   ]
  },
  {
   "cell_type": "code",
   "execution_count": 38,
   "metadata": {},
   "outputs": [
    {
     "name": "stdout",
     "output_type": "stream",
     "text": [
      "1.5\n",
      "round\n",
      "2.25\n",
      "round\n"
     ]
    }
   ],
   "source": [
    "\n",
    "class Pipe:\n",
    "    def __init__(self, diameter, cross_section):\n",
    "        self.diameter = diameter\n",
    "        self.cross_section = cross_section\n",
    "    \n",
    "\n",
    "pipe_1 = Pipe(1.5, 'round')\n",
    "print (pipe_1.diameter)\n",
    "print (pipe_1.cross_section)\n",
    "\n",
    "pipe_2 = Pipe(2.25, 'round')\n",
    "print (pipe_2.diameter)\n",
    "print (pipe_2.cross_section)\n"
   ]
  },
  {
   "cell_type": "code",
   "execution_count": 39,
   "metadata": {},
   "outputs": [],
   "source": [
    "class Book:\n",
    "    def __init__(self, name, author):\n",
    "        self.name = name\n",
    "        self.author = author"
   ]
  },
  {
   "cell_type": "code",
   "execution_count": 41,
   "metadata": {},
   "outputs": [
    {
     "name": "stdout",
     "output_type": "stream",
     "text": [
      "Harry Potter\n",
      "Three body problem\n"
     ]
    }
   ],
   "source": [
    "book_1 = Book('Harry Potter', 'J.K. Rowling')\n",
    "book_2 = Book('Three body problem', 'Kazkas')\n",
    "print(book_1.name)\n",
    "print(book_2.name)"
   ]
  },
  {
   "cell_type": "code",
   "execution_count": 55,
   "metadata": {},
   "outputs": [
    {
     "name": "stdout",
     "output_type": "stream",
     "text": [
      "Pipe of diameter 1.5, and type round\n",
      "<class '__main__.Pipe'>\n",
      "1.5\n",
      "round\n",
      "Cross section area: 1.76625\n",
      "fluid flow rate: 0.883125\n",
      "\n",
      "Pipe of diameter 2.25, and type round\n",
      "<class '__main__.Pipe'>\n",
      "2.25\n",
      "round\n",
      "Cross section area: 3.9740625\n",
      "fluid flow rate: 1.98703125\n",
      "\n",
      "False\n",
      "True\n"
     ]
    }
   ],
   "source": [
    "\n",
    "class Pipe:\n",
    "    def __init__(self, diameter, cross_section_type):\n",
    "        self.diameter = diameter\n",
    "        self.cross_section_type = cross_section_type\n",
    "    \n",
    "    def flow_rate(self, velocity):\n",
    "        return self.cross_section() * velocity\n",
    "\n",
    "    def cross_section(self):\n",
    "        area = None\n",
    "        if self.cross_section_type == 'round':\n",
    "            area = 3.14 * (self.diameter / 2) ** 2\n",
    "        else:\n",
    "            raise NotImplementedError(f'Cross section of type {self.cross_section_type} not implemented')\n",
    "        return area\n",
    "\n",
    "    def __lt__(self, other_pipe):\n",
    "        return self.cross_section() < other_pipe.cross_section()\n",
    "\n",
    "    def __repr__(self):\n",
    "        return f'Pipe of diameter {self.diameter}, and type {self.cross_section_type}'\n",
    "    \n",
    "\n",
    "# flow_rate(3) # Error, not defined\n",
    "\n",
    "pipe_1 = Pipe(1.5, 'round')\n",
    "# print (pipe_1.diameter)\n",
    "# print (pipe_1.cross_section_type)\n",
    "# print ('Cross section area:', pipe_1.cross_section() )\n",
    "\n",
    "pipe_2 = Pipe(2.25, 'round')\n",
    "# print (pipe_2.diameter)\n",
    "# print (pipe_2.cross_section_type)\n",
    "# print ('Cross section area:',  pipe_2.cross_section() )\n",
    "\n",
    "pipes = [ pipe_1, pipe_2 ]\n",
    "for pipe in pipes:\n",
    "    print (pipe)\n",
    "    print (type(pipe))\n",
    "    print (pipe.diameter)\n",
    "    print (pipe.cross_section_type)\n",
    "    print ('Cross section area:',  pipe.cross_section() )\n",
    "    print ('fluid flow rate:',  pipe.flow_rate(0.5) )\n",
    "    print ()\n",
    "\n",
    "print (pipe_1 > pipe_2)\n",
    "print (pipe_1 < pipe_2)\n"
   ]
  },
  {
   "cell_type": "markdown",
   "metadata": {},
   "source": [
    "# Class inheritance"
   ]
  },
  {
   "cell_type": "code",
   "execution_count": 78,
   "metadata": {},
   "outputs": [],
   "source": [
    "class Pipe:\n",
    "    # def __init__(self):\n",
    "    #     # self.testas ='testas'\n",
    "    #     pass\n",
    "    \n",
    "    def cross_section(self):\n",
    "        raise NotImplementedError\n",
    "\n",
    "    def flow_rate(self, velocity):\n",
    "        return self.cross_section() * velocity"
   ]
  },
  {
   "cell_type": "code",
   "execution_count": 79,
   "metadata": {},
   "outputs": [],
   "source": [
    "class RectanglePipe(Pipe):\n",
    "    def __init__(self, width, height):\n",
    "        super().__init__()  # super() gets Pipe and runs it __init__ method\n",
    "        ### these are attributes\n",
    "        self.width = width\n",
    "        self.height = height\n",
    "\n",
    "    ### this  is a class method, we overwrite it\n",
    "    def cross_section(self):\n",
    "        return self.width * self.height"
   ]
  },
  {
   "cell_type": "code",
   "execution_count": 80,
   "metadata": {},
   "outputs": [],
   "source": [
    "class RoundPipe(Pipe):\n",
    "    def __init__(self, radius):\n",
    "        # super().__init__()  # super() gets Pipe and runs it __init__ method\n",
    "        self.radius = radius\n",
    "\n",
    "    def cross_section(self):\n",
    "        return 3.14 * self.radius ** 2"
   ]
  },
  {
   "cell_type": "code",
   "execution_count": 83,
   "metadata": {},
   "outputs": [
    {
     "name": "stdout",
     "output_type": "stream",
     "text": [
      "36\n"
     ]
    }
   ],
   "source": [
    "rectangle_pipe_1 = RectanglePipe(4,3)\n",
    "print (rectangle_pipe_1.flow_rate(3) )\n",
    "# print (rectangle_pipe_1.testas )"
   ]
  },
  {
   "cell_type": "code",
   "execution_count": 84,
   "metadata": {},
   "outputs": [
    {
     "name": "stdout",
     "output_type": "stream",
     "text": [
      "21.195\n"
     ]
    }
   ],
   "source": [
    "round_pipe_1 = RoundPipe(1.5)\n",
    "print (round_pipe_1.flow_rate(3) )\n",
    "# print (round_pipe_1.testas )"
   ]
  },
  {
   "cell_type": "code",
   "execution_count": 86,
   "metadata": {},
   "outputs": [],
   "source": [
    "class Knyga:\n",
    "    def __init__(self, pavadinimas, autorius, metai, puslapiu_kiekis, savininkas=None, grazinimo_terminas=None):\n",
    "        self.pavadinimas = pavadinimas\n",
    "        self.autorius = autorius\n",
    "        self.metai = metai\n",
    "        self.puslapiu_kiekis = puslapiu_kiekis\n",
    "        self._savininkas = savininkas\n",
    "        self._grazinimo_terminas = grazinimo_terminas\n",
    "\n",
    "    def set_savininkas(self, naujas_savininkas, terminas):\n",
    "        self._savininkas = naujas_savininkas\n",
    "        self._grazinimo_terminas = terminas\n",
    "\n",
    "    def __eq__(self, kita_knyga):\n",
    "        return self.pavadinimas == kita_knyga.pavadinimas and self.autorius == kita_knyga.autorius and self.metai == kita_knyga.metai\n",
    "        \n",
    "    def __repr__(self):\n",
    "        return f\"\"\" '{self.pavadinimas}', {self.autorius}, {self.metai} m. \"\"\""
   ]
  },
  {
   "cell_type": "code",
   "execution_count": 87,
   "metadata": {},
   "outputs": [],
   "source": [
    "import datetime\n",
    "\n",
    "class Biblioteka:\n",
    "    def __init__(self, pavadinimas):\n",
    "        self.pavadinimas = pavadinimas\n",
    "        self.knygos = []\n",
    "        \n",
    "    def prideti_knyga(self, knyga):\n",
    "        self.knygos.append(knyga)\n",
    "    \n",
    "    def pasalinti_knyga(self, knyga_pasalinimui):\n",
    "        self.knygos.remove(knyga_pasalinimui)\n",
    "        # for idx, knyga in enumerate (self.knygos):\n",
    "        #     if knyga.pavadinimas == knyga_pasalinimui.pavadinimas:\n",
    "\n",
    "    def paskolinti_knyga(self, knygos_pavadinimas, vartotojas):\n",
    "        laisva_knyga_rasta = False\n",
    "        \n",
    "        for knyga in self.knygos:\n",
    "            if knyga.pavadinimas == knygos_pavadinimas and knyga._savininkas is None:\n",
    "                # knyga.savininkas = vartotojas # better not use this\n",
    "                terminas = datetime.date.today() + datetime.timedelta(weeks=4)\n",
    "                knyga.set_savininkas(vartotojas, terminas)\n",
    "                laisva_knyga_rasta = True\n",
    "                break\n",
    "        if not laisva_knyga_rasta:\n",
    "            print (f\"Laisva knyga pavadinimu {knygos_pavadinimas} nerasta bibliotekoje.\")\n",
    "\n",
    "    def knygu_laisvumas(self):\n",
    "        for knyga in self.knygos:\n",
    "            print(f\"{knyga.pavadinimas} - { (knyga._savininkas, knyga._grazinimo_terminas)  if knyga._savininkas else 'laisva'}\")"
   ]
  },
  {
   "cell_type": "code",
   "execution_count": 93,
   "metadata": {},
   "outputs": [
    {
     "name": "stdout",
     "output_type": "stream",
     "text": [
      "True\n",
      "False\n",
      "[ 'knyga_5', Kazkoks zymus zmogus, 1843 m. ,  'knyga_2', Kazkoks zymus zmogus, 1983 m. ,  'knyga_3', Kitas zmogus, 1923 m. ]\n",
      "knyga_5 - laisva\n",
      "knyga_2 - laisva\n",
      "knyga_3 - laisva\n",
      "knyga_2 - laisva\n",
      "knyga_5 - laisva\n",
      "\n",
      "knyga_5 - laisva\n",
      "knyga_2 - ('Benas', datetime.date(2022, 3, 1))\n",
      "knyga_3 - ('Darius', datetime.date(2022, 3, 1))\n",
      "knyga_2 - laisva\n",
      "knyga_5 - laisva\n"
     ]
    }
   ],
   "source": [
    "knyga_1 = Knyga(\"knyga_5\", \"Kazkoks zymus zmogus\", 1843, 576 )\n",
    "knyga_2 = Knyga(\"knyga_2\", \"Kazkoks zymus zmogus\", 1983, 576 )\n",
    "knyga_3 = Knyga(\"knyga_3\", \"Kitas zmogus\", 1923, 547 )\n",
    "knyga_4 = Knyga(\"knyga_2\", \"Kazkas\", 1489, 4984 )\n",
    "knyga_5 = Knyga(\"knyga_5\", \"Kazkoks zymus zmogus\", 1843, 576 )\n",
    "\n",
    "print (knyga_1 == knyga_5 )\n",
    "print (knyga_1 == knyga_3 )\n",
    "\n",
    "mano_biblioteka = Biblioteka(\"Dariaus biblioteka\")\n",
    "mano_biblioteka.prideti_knyga(knyga_1)\n",
    "mano_biblioteka.prideti_knyga(knyga_2)\n",
    "mano_biblioteka.prideti_knyga(knyga_3)\n",
    "print (mano_biblioteka.knygos)\n",
    "mano_biblioteka.prideti_knyga(knyga_4)\n",
    "mano_biblioteka.prideti_knyga(knyga_5)\n",
    "mano_biblioteka.knygu_laisvumas()\n",
    "print ()\n",
    "mano_biblioteka.paskolinti_knyga(\"knyga_3\", \"Darius\")\n",
    "mano_biblioteka.paskolinti_knyga(\"knyga_2\", \"Benas\")\n",
    "mano_biblioteka.knygu_laisvumas()"
   ]
  },
  {
   "cell_type": "code",
   "execution_count": 97,
   "metadata": {},
   "outputs": [
    {
     "name": "stdout",
     "output_type": "stream",
     "text": [
      "| O | X |  |\n",
      "| X |  | O |\n",
      "|  | X |  |\n"
     ]
    }
   ],
   "source": [
    "print(f'| O | X |  |' )\n",
    "print(f'| X |  | O |' )\n",
    "print(f'|  | X |  |' )"
   ]
  },
  {
   "cell_type": "code",
   "execution_count": null,
   "metadata": {},
   "outputs": [],
   "source": []
  }
 ],
 "metadata": {
  "interpreter": {
   "hash": "ce3f3f42ea1e24236ee7d8b6e939f07d74c5d5b656410ea2a0e47f46c58e1c3f"
  },
  "kernelspec": {
   "display_name": "Python 3.10.2 64-bit",
   "language": "python",
   "name": "python3"
  },
  "language_info": {
   "codemirror_mode": {
    "name": "ipython",
    "version": 3
   },
   "file_extension": ".py",
   "mimetype": "text/x-python",
   "name": "python",
   "nbconvert_exporter": "python",
   "pygments_lexer": "ipython3",
   "version": "3.10.2"
  },
  "orig_nbformat": 4
 },
 "nbformat": 4,
 "nbformat_minor": 2
}
